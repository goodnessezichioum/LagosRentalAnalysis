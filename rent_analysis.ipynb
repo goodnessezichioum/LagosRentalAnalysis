{
 "cells": [
  {
   "cell_type": "code",
   "execution_count": 12,
   "id": "e2c63f67-0f41-4b48-ba15-135e663076cd",
   "metadata": {},
   "outputs": [],
   "source": [
    "import pandas as pd\n",
    "import matplotlib.pyplot as plt\n"
   ]
  },
  {
   "cell_type": "code",
   "execution_count": 13,
   "id": "2e972c21-783d-427b-b431-b88dc1dc4db0",
   "metadata": {},
   "outputs": [],
   "source": [
    "# read the csv file into a data frame\n",
    "unfiltered_df = pd.read_csv('data\\\\lagos-rent.csv')"
   ]
  },
  {
   "cell_type": "code",
   "execution_count": 14,
   "id": "45cb83c2-88aa-4e15-8127-8976e229ad13",
   "metadata": {},
   "outputs": [
    {
     "name": "stdout",
     "output_type": "stream",
     "text": [
      "Index(['Title', 'More Info', 'Price', 'Serviced', 'Newly Built', 'Furnished',\n",
      "       'Bedrooms', 'Bathrooms', 'Toilets', 'City', 'Neighborhood'],\n",
      "      dtype='object')\n",
      "                                               Title  \\\n",
      "0  Newly Built 4 Bedroom Semi Detached House With Bq   \n",
      "1      Superb 4 Bedroom Semi Detached Duplex With Bq   \n",
      "2    Furnished 2 Bedroom Terrace Duplex For Rent !!!   \n",
      "3                       2 Bedroom Apartment For Rent   \n",
      "4                  4 Bedroom Terrace Duplex For Rent   \n",
      "\n",
      "                  More Info           Price  Serviced  Newly Built  Furnished  \\\n",
      "0  4 BEDROOM HOUSE FOR RENT  5,000,000/year         0            1          0   \n",
      "1  4 BEDROOM HOUSE FOR RENT  5,000,000/year         0            1          0   \n",
      "2  2 BEDROOM HOUSE FOR RENT       3,500,000         1            0          0   \n",
      "3  2 BEDROOM HOUSE FOR RENT       2,700,000         1            1          0   \n",
      "4  4 BEDROOM HOUSE FOR RENT       4,000,000         1            0          0   \n",
      "\n",
      "  Bedrooms Bathrooms    Toilets   City  Neighborhood  \n",
      "0   4 beds   4 baths  5 Toilets  Lekki        Agungi  \n",
      "1   4 beds   4 baths  5 Toilets  Lekki   Other Lekki  \n",
      "2   2 beds   3 baths  3 Toilets  Lekki  Osapa London  \n",
      "3   2 beds   3 baths  3 Toilets  Lekki       Ologolo  \n",
      "4   4 beds   5 baths  5 Toilets  Lekki       Chevron  \n"
     ]
    }
   ],
   "source": [
    "# get a sense/clearer picture of the data we are working with\n",
    "print(unfiltered_df.columns)\n",
    "print(unfiltered_df.head())"
   ]
  },
  {
   "cell_type": "code",
   "execution_count": null,
   "id": "a11b7205-ab1c-42a1-97e0-1419f42a4f90",
   "metadata": {},
   "outputs": [],
   "source": []
  }
 ],
 "metadata": {
  "kernelspec": {
   "display_name": "Python 3 (ipykernel)",
   "language": "python",
   "name": "python3"
  },
  "language_info": {
   "codemirror_mode": {
    "name": "ipython",
    "version": 3
   },
   "file_extension": ".py",
   "mimetype": "text/x-python",
   "name": "python",
   "nbconvert_exporter": "python",
   "pygments_lexer": "ipython3",
   "version": "3.12.1"
  }
 },
 "nbformat": 4,
 "nbformat_minor": 5
}
