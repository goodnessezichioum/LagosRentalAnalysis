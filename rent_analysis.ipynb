{
 "cells": [
  {
   "cell_type": "code",
   "execution_count": 12,
   "id": "e2c63f67-0f41-4b48-ba15-135e663076cd",
   "metadata": {},
   "outputs": [],
   "source": [
    "import pandas as pd\n",
    "import matplotlib.pyplot as plt\n"
   ]
  },
  {
   "cell_type": "code",
   "execution_count": 18,
   "id": "2e972c21-783d-427b-b431-b88dc1dc4db0",
   "metadata": {},
   "outputs": [
    {
     "name": "stdout",
     "output_type": "stream",
     "text": [
      "53070\n"
     ]
    }
   ],
   "source": [
    "# read the csv file into a data frame\n",
    "unfiltered_df = pd.read_csv('data\\\\lagos-rent.csv')\n",
    "print(len(unfiltered_df))"
   ]
  },
  {
   "cell_type": "code",
   "execution_count": 19,
   "id": "45cb83c2-88aa-4e15-8127-8976e229ad13",
   "metadata": {},
   "outputs": [
    {
     "name": "stdout",
     "output_type": "stream",
     "text": [
      "Index(['Title', 'More Info', 'Price', 'Serviced', 'Newly Built', 'Furnished',\n",
      "       'Bedrooms', 'Bathrooms', 'Toilets', 'City', 'Neighborhood'],\n",
      "      dtype='object')\n",
      "                                               Title  \\\n",
      "0  Newly Built 4 Bedroom Semi Detached House With Bq   \n",
      "1      Superb 4 Bedroom Semi Detached Duplex With Bq   \n",
      "2    Furnished 2 Bedroom Terrace Duplex For Rent !!!   \n",
      "3                       2 Bedroom Apartment For Rent   \n",
      "4                  4 Bedroom Terrace Duplex For Rent   \n",
      "\n",
      "                  More Info           Price  Serviced  Newly Built  Furnished  \\\n",
      "0  4 BEDROOM HOUSE FOR RENT  5,000,000/year         0            1          0   \n",
      "1  4 BEDROOM HOUSE FOR RENT  5,000,000/year         0            1          0   \n",
      "2  2 BEDROOM HOUSE FOR RENT       3,500,000         1            0          0   \n",
      "3  2 BEDROOM HOUSE FOR RENT       2,700,000         1            1          0   \n",
      "4  4 BEDROOM HOUSE FOR RENT       4,000,000         1            0          0   \n",
      "\n",
      "  Bedrooms Bathrooms    Toilets   City  Neighborhood  \n",
      "0   4 beds   4 baths  5 Toilets  Lekki        Agungi  \n",
      "1   4 beds   4 baths  5 Toilets  Lekki   Other Lekki  \n",
      "2   2 beds   3 baths  3 Toilets  Lekki  Osapa London  \n",
      "3   2 beds   3 baths  3 Toilets  Lekki       Ologolo  \n",
      "4   4 beds   5 baths  5 Toilets  Lekki       Chevron  \n"
     ]
    }
   ],
   "source": [
    "# get a sense/clearer picture of the data we are working with\n",
    "print(unfiltered_df.columns)\n",
    "print(unfiltered_df.head())"
   ]
  },
  {
   "cell_type": "code",
   "execution_count": 20,
   "id": "a11b7205-ab1c-42a1-97e0-1419f42a4f90",
   "metadata": {},
   "outputs": [],
   "source": [
    "# let's perform some filtering on the data\n",
    "# 1. limit the data to properties with 1 or more bedrooms\n",
    "df = unfiltered_df[unfiltered_df['Bedrooms'].str.contains('\\\\d') & (unfiltered_df['Bedrooms'] != '0 beds')]\n",
    "# 2. filter by the properties with yearly price\n",
    "df = df[df['Price'].str.contains('\\\\d+/year', regex=True)]"
   ]
  },
  {
   "cell_type": "code",
   "execution_count": 21,
   "id": "bae45fc5-efd3-47eb-942d-6acc96ff8a5c",
   "metadata": {},
   "outputs": [
    {
     "name": "stdout",
     "output_type": "stream",
     "text": [
      "27130\n"
     ]
    }
   ],
   "source": [
    "# know the current size of our data after filtering\n",
    "print(len(df))"
   ]
  },
  {
   "cell_type": "code",
   "execution_count": 22,
   "id": "29e37949-9494-424c-94e8-472b1831b370",
   "metadata": {},
   "outputs": [],
   "source": [
    "# Data formatting\n",
    "# 1. format the Price column which is a string in the format 'price/year' into a float\n",
    "df['Price'] = df['Price'].replace(',|/year', '', regex=True)\n",
    "df['Price'] = df['Price'].astype(float)\n",
    "# 2. format the Bedrooms column which is displayed as 'num beds' into an int\n",
    "df['Bedrooms'] = df['Bedrooms'].str.extract('(\\\\d)')\n",
    "df['Bedrooms'] = df['Bedrooms'].astype(int)"
   ]
  },
  {
   "cell_type": "code",
   "execution_count": 25,
   "id": "da366ab0-0b14-49db-8af8-0b97b4a06b2c",
   "metadata": {},
   "outputs": [
    {
     "name": "stdout",
     "output_type": "stream",
     "text": [
      "                                                Title  \\\n",
      "0   Newly Built 4 Bedroom Semi Detached House With Bq   \n",
      "1       Superb 4 Bedroom Semi Detached Duplex With Bq   \n",
      "6                                    5 Bedroom Duplex   \n",
      "8                                 2 Bedroom Apartment   \n",
      "11              Nicely Built 4 Bedroom Terrace Duplex   \n",
      "\n",
      "                              More Info       Price  Serviced  Newly Built  \\\n",
      "0              4 BEDROOM HOUSE FOR RENT   5000000.0         0            1   \n",
      "1              4 BEDROOM HOUSE FOR RENT   5000000.0         0            1   \n",
      "6              5 BEDROOM HOUSE FOR RENT  15000000.0         0            0   \n",
      "8   2 BEDROOM FLAT / APARTMENT FOR RENT   8000000.0         1            1   \n",
      "11             4 BEDROOM HOUSE FOR RENT   4000000.0         1            0   \n",
      "\n",
      "    Furnished  Bedrooms Bathrooms    Toilets   City   Neighborhood  \n",
      "0           0         4   4 baths  5 Toilets  Lekki         Agungi  \n",
      "1           0         4   4 baths  5 Toilets  Lekki    Other Lekki  \n",
      "6           1         5   6 baths  7 Toilets  Lekki  Lekki Phase 1  \n",
      "8           1         2   2 baths  2 Toilets  Lekki          Ikate  \n",
      "11          0         4   4 baths  5 Toilets  Lekki    Other Lekki  \n",
      "0         5000000.0\n",
      "1         5000000.0\n",
      "6        15000000.0\n",
      "8         8000000.0\n",
      "11        4000000.0\n",
      "            ...    \n",
      "51951      600000.0\n",
      "51952      398000.0\n",
      "51953      500000.0\n",
      "51974      350000.0\n",
      "51995      400000.0\n",
      "Name: Price, Length: 27130, dtype: float64\n",
      "0        4\n",
      "1        4\n",
      "6        5\n",
      "8        2\n",
      "11       4\n",
      "        ..\n",
      "51951    1\n",
      "51952    1\n",
      "51953    1\n",
      "51974    1\n",
      "51995    1\n",
      "Name: Bedrooms, Length: 27130, dtype: int32\n"
     ]
    }
   ],
   "source": [
    "# preview data after filtering after filtering and formatting\n",
    "print(df.head())\n",
    "\n",
    "print(df['Price'])\n",
    "print(df['Bedrooms'])"
   ]
  },
  {
   "cell_type": "code",
   "execution_count": 26,
   "id": "0c8181f3-6ddb-4a27-beb2-5f7abcae5227",
   "metadata": {},
   "outputs": [
    {
     "name": "stdout",
     "output_type": "stream",
     "text": [
      "              Price      Bedrooms\n",
      "count  2.713000e+04  27130.000000\n",
      "mean   7.193710e+07      2.675599\n",
      "std    1.032256e+10      1.270748\n",
      "min    1.000000e+00      1.000000\n",
      "25%    1.100000e+06      2.000000\n",
      "50%    2.500000e+06      3.000000\n",
      "75%    5.000000e+06      4.000000\n",
      "max    1.700000e+12      9.000000\n"
     ]
    }
   ],
   "source": [
    "# get a description of the data pulling off unneeded columns first\n",
    "description = df.drop(['Serviced', 'Newly Built', 'Furnished', 'More Info'], axis=1).describe()\n",
    "print(description)"
   ]
  },
  {
   "cell_type": "code",
   "execution_count": 27,
   "id": "05ee1ef2-19d8-4c4c-aa24-224095665cac",
   "metadata": {},
   "outputs": [],
   "source": [
    "# get a list of unique cities as this will be used later on\n",
    "cities = df['City'].unique().tolist()"
   ]
  },
  {
   "cell_type": "code",
   "execution_count": null,
   "id": "8cb4bc92-a3f2-4fc0-8c3f-7d66b1f67fc2",
   "metadata": {},
   "outputs": [],
   "source": []
  }
 ],
 "metadata": {
  "kernelspec": {
   "display_name": "Python 3 (ipykernel)",
   "language": "python",
   "name": "python3"
  },
  "language_info": {
   "codemirror_mode": {
    "name": "ipython",
    "version": 3
   },
   "file_extension": ".py",
   "mimetype": "text/x-python",
   "name": "python",
   "nbconvert_exporter": "python",
   "pygments_lexer": "ipython3",
   "version": "3.12.1"
  }
 },
 "nbformat": 4,
 "nbformat_minor": 5
}
